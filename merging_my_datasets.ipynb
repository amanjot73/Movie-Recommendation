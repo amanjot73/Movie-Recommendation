{
 "cells": [
  {
   "cell_type": "code",
   "execution_count": 3,
   "id": "d5ac3334",
   "metadata": {},
   "outputs": [
    {
     "name": "stdout",
     "output_type": "stream",
     "text": [
      "Requirement already satisfied: dask in c:\\users\\amanjot singh\\appdata\\local\\programs\\python\\python314\\lib\\site-packages (2025.10.0)\n",
      "Requirement already satisfied: click>=8.1 in c:\\users\\amanjot singh\\appdata\\local\\programs\\python\\python314\\lib\\site-packages (from dask) (8.3.0)\n",
      "Requirement already satisfied: cloudpickle>=3.0.0 in c:\\users\\amanjot singh\\appdata\\local\\programs\\python\\python314\\lib\\site-packages (from dask) (3.1.1)\n",
      "Requirement already satisfied: fsspec>=2021.09.0 in c:\\users\\amanjot singh\\appdata\\local\\programs\\python\\python314\\lib\\site-packages (from dask) (2025.9.0)\n",
      "Requirement already satisfied: packaging>=20.0 in c:\\users\\amanjot singh\\appdata\\local\\programs\\python\\python314\\lib\\site-packages (from dask) (25.0)\n",
      "Requirement already satisfied: partd>=1.4.0 in c:\\users\\amanjot singh\\appdata\\local\\programs\\python\\python314\\lib\\site-packages (from dask) (1.4.2)\n",
      "Requirement already satisfied: pyyaml>=5.3.1 in c:\\users\\amanjot singh\\appdata\\local\\programs\\python\\python314\\lib\\site-packages (from dask) (6.0.3)\n",
      "Requirement already satisfied: toolz>=0.10.0 in c:\\users\\amanjot singh\\appdata\\local\\programs\\python\\python314\\lib\\site-packages (from dask) (1.1.0)\n",
      "Requirement already satisfied: colorama in c:\\users\\amanjot singh\\appdata\\local\\programs\\python\\python314\\lib\\site-packages (from click>=8.1->dask) (0.4.6)\n",
      "Requirement already satisfied: locket in c:\\users\\amanjot singh\\appdata\\local\\programs\\python\\python314\\lib\\site-packages (from partd>=1.4.0->dask) (1.0.0)\n"
     ]
    },
    {
     "name": "stderr",
     "output_type": "stream",
     "text": [
      "\n",
      "[notice] A new release of pip is available: 25.2 -> 25.3\n",
      "[notice] To update, run: python.exe -m pip install --upgrade pip\n"
     ]
    }
   ],
   "source": [
    "!pip install dask\n"
   ]
  },
  {
   "cell_type": "code",
   "execution_count": 6,
   "id": "eccab8c8",
   "metadata": {},
   "outputs": [
    {
     "name": "stdout",
     "output_type": "stream",
     "text": [
      "Index(['unnamed_0', 'tconst', 'primaryTitle', 'runtimeMinutes', 'genres',\n",
      "       '_lang', 'language_name', '_lang_right', 'nconst', 'ordering',\n",
      "       'category', 'unnamed_0_right', 'primaryName', 'knownForTitles',\n",
      "       'primaryProfession', 'unnamed_0_right_right', 'averageRating'],\n",
      "      dtype='object')\n"
     ]
    }
   ],
   "source": [
    "import dask.dataframe as dd\n",
    "\n",
    "# Example of reading CSV\n",
    "final = dd.read_csv('merged_final4.csv', assume_missing=True)\n",
    "\n",
    "# Optional: check columns\n",
    "print(final.columns)  # should show 'primaryName'\n"
   ]
  },
  {
   "cell_type": "code",
   "execution_count": null,
   "id": "91147fe8",
   "metadata": {},
   "outputs": [],
   "source": []
  },
  {
   "cell_type": "code",
   "execution_count": null,
   "id": "b1b67c5b",
   "metadata": {},
   "outputs": [],
   "source": []
  },
  {
   "cell_type": "code",
   "execution_count": null,
   "id": "38a2a1fb",
   "metadata": {},
   "outputs": [],
   "source": []
  },
  {
   "cell_type": "code",
   "execution_count": null,
   "id": "ac4ccd1b",
   "metadata": {},
   "outputs": [],
   "source": []
  },
  {
   "cell_type": "code",
   "execution_count": null,
   "id": "7c1a930f",
   "metadata": {},
   "outputs": [],
   "source": []
  },
  {
   "cell_type": "code",
   "execution_count": null,
   "id": "8beee8b5",
   "metadata": {},
   "outputs": [],
   "source": []
  },
  {
   "cell_type": "code",
   "execution_count": 15,
   "id": "d92c3ed3",
   "metadata": {},
   "outputs": [
    {
     "name": "stdout",
     "output_type": "stream",
     "text": [
      "Found files: ['C:\\\\Users\\\\Amanjot Singh\\\\Desktop\\\\movie project\\\\updated_language.csv\\\\00.part', 'C:\\\\Users\\\\Amanjot Singh\\\\Desktop\\\\movie project\\\\updated_language.csv\\\\01.part', 'C:\\\\Users\\\\Amanjot Singh\\\\Desktop\\\\movie project\\\\updated_language.csv\\\\02.part', 'C:\\\\Users\\\\Amanjot Singh\\\\Desktop\\\\movie project\\\\updated_language.csv\\\\03.part', 'C:\\\\Users\\\\Amanjot Singh\\\\Desktop\\\\movie project\\\\updated_language.csv\\\\04.part', 'C:\\\\Users\\\\Amanjot Singh\\\\Desktop\\\\movie project\\\\updated_language.csv\\\\05.part', 'C:\\\\Users\\\\Amanjot Singh\\\\Desktop\\\\movie project\\\\updated_language.csv\\\\06.part', 'C:\\\\Users\\\\Amanjot Singh\\\\Desktop\\\\movie project\\\\updated_language.csv\\\\07.part', 'C:\\\\Users\\\\Amanjot Singh\\\\Desktop\\\\movie project\\\\updated_language.csv\\\\08.part', 'C:\\\\Users\\\\Amanjot Singh\\\\Desktop\\\\movie project\\\\updated_language.csv\\\\09.part', 'C:\\\\Users\\\\Amanjot Singh\\\\Desktop\\\\movie project\\\\updated_language.csv\\\\10.part', 'C:\\\\Users\\\\Amanjot Singh\\\\Desktop\\\\movie project\\\\updated_language.csv\\\\11.part', 'C:\\\\Users\\\\Amanjot Singh\\\\Desktop\\\\movie project\\\\updated_language.csv\\\\12.part', 'C:\\\\Users\\\\Amanjot Singh\\\\Desktop\\\\movie project\\\\updated_language.csv\\\\13.part', 'C:\\\\Users\\\\Amanjot Singh\\\\Desktop\\\\movie project\\\\updated_language.csv\\\\14.part', 'C:\\\\Users\\\\Amanjot Singh\\\\Desktop\\\\movie project\\\\updated_language.csv\\\\15.part', 'C:\\\\Users\\\\Amanjot Singh\\\\Desktop\\\\movie project\\\\updated_language.csv\\\\16.part', 'C:\\\\Users\\\\Amanjot Singh\\\\Desktop\\\\movie project\\\\updated_language.csv\\\\17.part', 'C:\\\\Users\\\\Amanjot Singh\\\\Desktop\\\\movie project\\\\updated_language.csv\\\\18.part', 'C:\\\\Users\\\\Amanjot Singh\\\\Desktop\\\\movie project\\\\updated_language.csv\\\\19.part', 'C:\\\\Users\\\\Amanjot Singh\\\\Desktop\\\\movie project\\\\updated_language.csv\\\\20.part']\n",
      "✅ Merged 21 parts successfully into:\n",
      "C:\\Users\\Amanjot Singh\\Desktop\\movie project\\final_updated_language.csv\n"
     ]
    }
   ],
   "source": [
    "import glob\n",
    "import polars as pl\n",
    "import os\n",
    "\n",
    "# ✅ Path to your folder containing the .part files\n",
    "path = r\"C:\\Users\\Amanjot Singh\\Desktop\\movie project\\updated_language.csv\"\n",
    "\n",
    "# Find all .part files inside the folder\n",
    "files = glob.glob(os.path.join(path, \"*.part\"))\n",
    "print(\"Found files:\", files)\n",
    "\n",
    "if not files:\n",
    "    print(\"⚠️ No .part files found! Check if this path is a folder (not a single .csv file).\")\n",
    "else:\n",
    "    # Sort and read all parts efficiently\n",
    "    df = pl.concat([pl.read_csv(f) for f in sorted(files)])\n",
    "    \n",
    "    # Save to one merged file\n",
    "    output_path = r\"C:\\Users\\Amanjot Singh\\Desktop\\movie project\\final_updated_language.csv\"\n",
    "    df.write_csv(output_path)\n",
    "    \n",
    "    print(f\"✅ Merged {len(files)} parts successfully into:\\n{output_path}\")\n"
   ]
  },
  {
   "cell_type": "code",
   "execution_count": 2,
   "id": "7880deff",
   "metadata": {},
   "outputs": [
    {
     "name": "stdout",
     "output_type": "stream",
     "text": [
      "Note: you may need to restart the kernel to use updated packages.\n"
     ]
    },
    {
     "name": "stderr",
     "output_type": "stream",
     "text": [
      "\n",
      "[notice] A new release of pip is available: 25.2 -> 25.3\n",
      "[notice] To update, run: python.exe -m pip install --upgrade pip\n"
     ]
    },
    {
     "name": "stdout",
     "output_type": "stream",
     "text": [
      "Collecting polars\n",
      "  Using cached polars-1.34.0-py3-none-any.whl.metadata (10 kB)\n",
      "Collecting polars-runtime-32==1.34.0 (from polars)\n",
      "  Using cached polars_runtime_32-1.34.0-cp39-abi3-win_amd64.whl.metadata (1.5 kB)\n",
      "Using cached polars-1.34.0-py3-none-any.whl (772 kB)\n",
      "Using cached polars_runtime_32-1.34.0-cp39-abi3-win_amd64.whl (40.1 MB)\n",
      "Installing collected packages: polars-runtime-32, polars\n",
      "\n",
      "   ---------------------------------------- 0/2 [polars-runtime-32]\n",
      "   ---------------------------------------- 0/2 [polars-runtime-32]\n",
      "   ---------------------------------------- 0/2 [polars-runtime-32]\n",
      "   ---------------------------------------- 0/2 [polars-runtime-32]\n",
      "   -------------------- ------------------- 1/2 [polars]\n",
      "   -------------------- ------------------- 1/2 [polars]\n",
      "   -------------------- ------------------- 1/2 [polars]\n",
      "   -------------------- ------------------- 1/2 [polars]\n",
      "   -------------------- ------------------- 1/2 [polars]\n",
      "   -------------------- ------------------- 1/2 [polars]\n",
      "   -------------------- ------------------- 1/2 [polars]\n",
      "   -------------------- ------------------- 1/2 [polars]\n",
      "   -------------------- ------------------- 1/2 [polars]\n",
      "   -------------------- ------------------- 1/2 [polars]\n",
      "   -------------------- ------------------- 1/2 [polars]\n",
      "   -------------------- ------------------- 1/2 [polars]\n",
      "   -------------------- ------------------- 1/2 [polars]\n",
      "   -------------------- ------------------- 1/2 [polars]\n",
      "   -------------------- ------------------- 1/2 [polars]\n",
      "   -------------------- ------------------- 1/2 [polars]\n",
      "   -------------------- ------------------- 1/2 [polars]\n",
      "   -------------------- ------------------- 1/2 [polars]\n",
      "   -------------------- ------------------- 1/2 [polars]\n",
      "   ---------------------------------------- 2/2 [polars]\n",
      "\n",
      "Successfully installed polars-1.34.0 polars-runtime-32-1.34.0\n"
     ]
    }
   ],
   "source": [
    "pip install polars"
   ]
  },
  {
   "cell_type": "code",
   "execution_count": 1,
   "id": "c3f0503a",
   "metadata": {},
   "outputs": [
    {
     "name": "stderr",
     "output_type": "stream",
     "text": [
      "C:\\Users\\Amanjot Singh\\AppData\\Local\\Temp\\ipykernel_15048\\3922497480.py:9: PerformanceWarning: Determining the column names of a LazyFrame requires resolving its schema, which is a potentially expensive operation. Use `LazyFrame.collect_schema().names()` to get the column names without this warning.\n",
      "  cols = [c if c.strip() != \"\" else f\"unnamed_{i}\" for i, c in enumerate(df.columns)]\n",
      "C:\\Users\\Amanjot Singh\\AppData\\Local\\Temp\\ipykernel_15048\\3922497480.py:10: PerformanceWarning: Determining the column names of a LazyFrame requires resolving its schema, which is a potentially expensive operation. Use `LazyFrame.collect_schema().names()` to get the column names without this warning.\n",
      "  df = df.rename(dict(zip(df.columns, cols)))\n",
      "C:\\Users\\Amanjot Singh\\AppData\\Local\\Temp\\ipykernel_15048\\3922497480.py:14: PerformanceWarning: Determining the column names of a LazyFrame requires resolving its schema, which is a potentially expensive operation. Use `LazyFrame.collect_schema().names()` to get the column names without this warning.\n",
      "  for c in df.columns:\n",
      "C:\\Users\\Amanjot Singh\\AppData\\Local\\Temp\\ipykernel_15048\\3922497480.py:21: PerformanceWarning: Determining the column names of a LazyFrame requires resolving its schema, which is a potentially expensive operation. Use `LazyFrame.collect_schema().names()` to get the column names without this warning.\n",
      "  df = df.rename(dict(zip(df.columns, new_cols)))\n",
      "C:\\Users\\Amanjot Singh\\AppData\\Local\\Temp\\ipykernel_15048\\3922497480.py:28: PerformanceWarning: Determining the column names of a LazyFrame requires resolving its schema, which is a potentially expensive operation. Use `LazyFrame.collect_schema().names()` to get the column names without this warning.\n",
      "  common_cols = [c for c in df2.columns if c in df1.columns and c != \"tconst\"]\n"
     ]
    },
    {
     "name": "stdout",
     "output_type": "stream",
     "text": [
      "✅ Merge complete, duplicates handled, and saved as merged_final4.csv\n"
     ]
    }
   ],
   "source": [
    "import polars as pl\n",
    "\n",
    "# 🔹 Read both CSVs lazily\n",
    "df1 = pl.scan_csv(r\"C:\\Users\\Amanjot Singh\\Desktop\\movie project\\merged_final3.csv\")\n",
    "df2 = pl.scan_csv(r\"C:\\Users\\Amanjot Singh\\Desktop\\movie project\\updated_rating.csv\")\n",
    "\n",
    "# ⚙️ Clean both dataframes before join\n",
    "def clean_columns(df: pl.LazyFrame):\n",
    "    cols = [c if c.strip() != \"\" else f\"unnamed_{i}\" for i, c in enumerate(df.columns)]\n",
    "    df = df.rename(dict(zip(df.columns, cols)))\n",
    "    # remove duplicate column names by adding suffixes\n",
    "    seen = {}\n",
    "    new_cols = []\n",
    "    for c in df.columns:\n",
    "        if c in seen:\n",
    "            seen[c] += 1\n",
    "            new_cols.append(f\"{c}_{seen[c]}\")\n",
    "        else:\n",
    "            seen[c] = 0\n",
    "            new_cols.append(c)\n",
    "    df = df.rename(dict(zip(df.columns, new_cols)))\n",
    "    return df\n",
    "\n",
    "df1 = clean_columns(df1)\n",
    "df2 = clean_columns(df2)\n",
    "\n",
    "# 🔹 Rename overlapping columns in df2 (except join key)\n",
    "common_cols = [c for c in df2.columns if c in df1.columns and c != \"tconst\"]\n",
    "df2 = df2.rename({c: f\"{c}_right\" for c in common_cols})\n",
    "\n",
    "# 🔹 Join safely\n",
    "merged_lazy = df1.join(df2, on=\"tconst\", how=\"inner\")\n",
    "\n",
    "# 🔹 Collect and remove duplicates\n",
    "merged_df = merged_lazy.collect().unique()\n",
    "\n",
    "# 🔹 Save final merged dataset\n",
    "merged_df.write_csv(r\"C:\\Users\\Amanjot Singh\\Desktop\\movie project\\merged_final4.csv\")\n",
    "\n",
    "print(\"✅ Merge complete, duplicates handled, and saved as merged_final4.csv\")\n"
   ]
  },
  {
   "cell_type": "code",
   "execution_count": 3,
   "id": "aeb87e40",
   "metadata": {},
   "outputs": [
    {
     "name": "stderr",
     "output_type": "stream",
     "text": [
      "C:\\Users\\Amanjot Singh\\AppData\\Local\\Temp\\ipykernel_13736\\3954128216.py:3: PerformanceWarning: Determining the column names of a LazyFrame requires resolving its schema, which is a potentially expensive operation. Use `LazyFrame.collect_schema().names()` to get the column names without this warning.\n",
      "  l.columns\n"
     ]
    },
    {
     "data": {
      "text/plain": [
       "['unnamed_0',\n",
       " 'tconst',\n",
       " 'primaryTitle',\n",
       " 'runtimeMinutes',\n",
       " 'genres',\n",
       " '_lang',\n",
       " 'language_name',\n",
       " '_lang_right',\n",
       " 'nconst',\n",
       " 'ordering',\n",
       " 'category',\n",
       " 'unnamed_0_right',\n",
       " 'primaryName',\n",
       " 'knownForTitles',\n",
       " 'primaryProfession']"
      ]
     },
     "execution_count": 3,
     "metadata": {},
     "output_type": "execute_result"
    }
   ],
   "source": [
    "import polars as pl\n",
    "l = pl.scan_csv('merged_final3.csv')\n",
    "l.columns"
   ]
  }
 ],
 "metadata": {
  "kernelspec": {
   "display_name": "Python 3",
   "language": "python",
   "name": "python3"
  },
  "language_info": {
   "codemirror_mode": {
    "name": "ipython",
    "version": 3
   },
   "file_extension": ".py",
   "mimetype": "text/x-python",
   "name": "python",
   "nbconvert_exporter": "python",
   "pygments_lexer": "ipython3",
   "version": "3.14.0"
  }
 },
 "nbformat": 4,
 "nbformat_minor": 5
}
